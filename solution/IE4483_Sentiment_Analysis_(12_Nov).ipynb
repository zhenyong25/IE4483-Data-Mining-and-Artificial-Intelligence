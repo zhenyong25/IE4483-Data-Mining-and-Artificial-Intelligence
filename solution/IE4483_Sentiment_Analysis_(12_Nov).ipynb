{
  "cells": [
    {
      "cell_type": "code",
      "execution_count": null,
      "id": "2f49f543",
      "metadata": {
        "id": "2f49f543",
        "outputId": "6e25a87c-42c9-4d7c-e076-06ed997bd60c",
        "colab": {
          "base_uri": "https://localhost:8080/"
        }
      },
      "outputs": [
        {
          "output_type": "stream",
          "name": "stderr",
          "text": [
            "[nltk_data] Downloading package stopwords to /root/nltk_data...\n",
            "[nltk_data]   Package stopwords is already up-to-date!\n"
          ]
        }
      ],
      "source": [
        "import numpy as np # linear algebra\n",
        "import pandas as pd # data processing, CSV file I/O (e.g. pd.read_csv)\n",
        "\n",
        "import keras # implementing neural networks\n",
        "from keras.models import Sequential # appropriate where each layer has exactly one input and one output\n",
        "from keras.layers import Dense # a dense layer is a layer where the neurons of the layer are connected to every neuron of its preceding layer\n",
        "from keras.layers import LSTM # a variation of recurrent neural network, has a feedback loop in its architecture\n",
        "from keras.layers import Activation # applies an activation function to an output\n",
        "from keras.layers import Embedding # turn positive integers into dense vectors of fixed size\n",
        "from keras.layers import Bidirectional # connecting two hidden layers of the opposite directions to same output\n",
        "from keras.layers import Dropout\n",
        "\n",
        "import nltk # ntlk = Natural Language Toolkit (Python Package)\n",
        "nltk.download('stopwords')\n",
        "from nltk.corpus import stopwords # stopwords - words that you do not want to use to describe the topic of your content \n",
        "\n",
        "import re # regular expression\n",
        "\n",
        "from keras.preprocessing.text import one_hot # one-hot encodes a text into a list of word indexes of size n\n",
        "from keras.utils import pad_sequences\n",
        "\n",
        "import seaborn as sb\n",
        "from sklearn.metrics import confusion_matrix\n",
        "\n",
        "import matplotlib.pyplot as plt\n"
      ]
    },
    {
      "cell_type": "code",
      "execution_count": null,
      "id": "8d79381e",
      "metadata": {
        "id": "8d79381e"
      },
      "outputs": [],
      "source": [
        "#max_features = 20000  # Only consider the top 20k words\n",
        "maxlen = 300\n",
        "\n",
        "vocab_size = 20000"
      ]
    },
    {
      "cell_type": "code",
      "execution_count": null,
      "id": "7c115c09",
      "metadata": {
        "id": "7c115c09",
        "outputId": "8f3217f0-5153-4e05-be40-d892488e640c",
        "colab": {
          "base_uri": "https://localhost:8080/",
          "height": 206
        }
      },
      "outputs": [
        {
          "output_type": "execute_result",
          "data": {
            "text/plain": [
              "                                             reviews  sentiments\n",
              "0  I bought this belt for my daughter in-law for ...           1\n",
              "1  The size was perfect and so was the color.  It...           1\n",
              "2  Fits and feels good, esp. for doing a swim rac...           1\n",
              "3  These socks are absolutely the best. I take pi...           1\n",
              "4  Thank you so much for the speedy delivery they...           1"
            ],
            "text/html": [
              "\n",
              "  <div id=\"df-a970e9f1-1506-461d-9d0f-ae989b4f7bdc\">\n",
              "    <div class=\"colab-df-container\">\n",
              "      <div>\n",
              "<style scoped>\n",
              "    .dataframe tbody tr th:only-of-type {\n",
              "        vertical-align: middle;\n",
              "    }\n",
              "\n",
              "    .dataframe tbody tr th {\n",
              "        vertical-align: top;\n",
              "    }\n",
              "\n",
              "    .dataframe thead th {\n",
              "        text-align: right;\n",
              "    }\n",
              "</style>\n",
              "<table border=\"1\" class=\"dataframe\">\n",
              "  <thead>\n",
              "    <tr style=\"text-align: right;\">\n",
              "      <th></th>\n",
              "      <th>reviews</th>\n",
              "      <th>sentiments</th>\n",
              "    </tr>\n",
              "  </thead>\n",
              "  <tbody>\n",
              "    <tr>\n",
              "      <th>0</th>\n",
              "      <td>I bought this belt for my daughter in-law for ...</td>\n",
              "      <td>1</td>\n",
              "    </tr>\n",
              "    <tr>\n",
              "      <th>1</th>\n",
              "      <td>The size was perfect and so was the color.  It...</td>\n",
              "      <td>1</td>\n",
              "    </tr>\n",
              "    <tr>\n",
              "      <th>2</th>\n",
              "      <td>Fits and feels good, esp. for doing a swim rac...</td>\n",
              "      <td>1</td>\n",
              "    </tr>\n",
              "    <tr>\n",
              "      <th>3</th>\n",
              "      <td>These socks are absolutely the best. I take pi...</td>\n",
              "      <td>1</td>\n",
              "    </tr>\n",
              "    <tr>\n",
              "      <th>4</th>\n",
              "      <td>Thank you so much for the speedy delivery they...</td>\n",
              "      <td>1</td>\n",
              "    </tr>\n",
              "  </tbody>\n",
              "</table>\n",
              "</div>\n",
              "      <button class=\"colab-df-convert\" onclick=\"convertToInteractive('df-a970e9f1-1506-461d-9d0f-ae989b4f7bdc')\"\n",
              "              title=\"Convert this dataframe to an interactive table.\"\n",
              "              style=\"display:none;\">\n",
              "        \n",
              "  <svg xmlns=\"http://www.w3.org/2000/svg\" height=\"24px\"viewBox=\"0 0 24 24\"\n",
              "       width=\"24px\">\n",
              "    <path d=\"M0 0h24v24H0V0z\" fill=\"none\"/>\n",
              "    <path d=\"M18.56 5.44l.94 2.06.94-2.06 2.06-.94-2.06-.94-.94-2.06-.94 2.06-2.06.94zm-11 1L8.5 8.5l.94-2.06 2.06-.94-2.06-.94L8.5 2.5l-.94 2.06-2.06.94zm10 10l.94 2.06.94-2.06 2.06-.94-2.06-.94-.94-2.06-.94 2.06-2.06.94z\"/><path d=\"M17.41 7.96l-1.37-1.37c-.4-.4-.92-.59-1.43-.59-.52 0-1.04.2-1.43.59L10.3 9.45l-7.72 7.72c-.78.78-.78 2.05 0 2.83L4 21.41c.39.39.9.59 1.41.59.51 0 1.02-.2 1.41-.59l7.78-7.78 2.81-2.81c.8-.78.8-2.07 0-2.86zM5.41 20L4 18.59l7.72-7.72 1.47 1.35L5.41 20z\"/>\n",
              "  </svg>\n",
              "      </button>\n",
              "      \n",
              "  <style>\n",
              "    .colab-df-container {\n",
              "      display:flex;\n",
              "      flex-wrap:wrap;\n",
              "      gap: 12px;\n",
              "    }\n",
              "\n",
              "    .colab-df-convert {\n",
              "      background-color: #E8F0FE;\n",
              "      border: none;\n",
              "      border-radius: 50%;\n",
              "      cursor: pointer;\n",
              "      display: none;\n",
              "      fill: #1967D2;\n",
              "      height: 32px;\n",
              "      padding: 0 0 0 0;\n",
              "      width: 32px;\n",
              "    }\n",
              "\n",
              "    .colab-df-convert:hover {\n",
              "      background-color: #E2EBFA;\n",
              "      box-shadow: 0px 1px 2px rgba(60, 64, 67, 0.3), 0px 1px 3px 1px rgba(60, 64, 67, 0.15);\n",
              "      fill: #174EA6;\n",
              "    }\n",
              "\n",
              "    [theme=dark] .colab-df-convert {\n",
              "      background-color: #3B4455;\n",
              "      fill: #D2E3FC;\n",
              "    }\n",
              "\n",
              "    [theme=dark] .colab-df-convert:hover {\n",
              "      background-color: #434B5C;\n",
              "      box-shadow: 0px 1px 3px 1px rgba(0, 0, 0, 0.15);\n",
              "      filter: drop-shadow(0px 1px 2px rgba(0, 0, 0, 0.3));\n",
              "      fill: #FFFFFF;\n",
              "    }\n",
              "  </style>\n",
              "\n",
              "      <script>\n",
              "        const buttonEl =\n",
              "          document.querySelector('#df-a970e9f1-1506-461d-9d0f-ae989b4f7bdc button.colab-df-convert');\n",
              "        buttonEl.style.display =\n",
              "          google.colab.kernel.accessAllowed ? 'block' : 'none';\n",
              "\n",
              "        async function convertToInteractive(key) {\n",
              "          const element = document.querySelector('#df-a970e9f1-1506-461d-9d0f-ae989b4f7bdc');\n",
              "          const dataTable =\n",
              "            await google.colab.kernel.invokeFunction('convertToInteractive',\n",
              "                                                     [key], {});\n",
              "          if (!dataTable) return;\n",
              "\n",
              "          const docLinkHtml = 'Like what you see? Visit the ' +\n",
              "            '<a target=\"_blank\" href=https://colab.research.google.com/notebooks/data_table.ipynb>data table notebook</a>'\n",
              "            + ' to learn more about interactive tables.';\n",
              "          element.innerHTML = '';\n",
              "          dataTable['output_type'] = 'display_data';\n",
              "          await google.colab.output.renderOutput(dataTable, element);\n",
              "          const docLink = document.createElement('div');\n",
              "          docLink.innerHTML = docLinkHtml;\n",
              "          element.appendChild(docLink);\n",
              "        }\n",
              "      </script>\n",
              "    </div>\n",
              "  </div>\n",
              "  "
            ]
          },
          "metadata": {},
          "execution_count": 10
        }
      ],
      "source": [
        "train_data = pd.read_json('/content/train.json') # read a csv file into DataFrame\n",
        "test_data = pd.read_json('/content/test.json')\n",
        "train_data.head() # returns the first n rows, default is 5"
      ]
    },
    {
      "cell_type": "code",
      "execution_count": null,
      "id": "036e228e",
      "metadata": {
        "id": "036e228e",
        "outputId": "1ee8a24f-e486-4309-a89b-3157ff411833",
        "colab": {
          "base_uri": "https://localhost:8080/"
        }
      },
      "outputs": [
        {
          "output_type": "stream",
          "name": "stdout",
          "text": [
            "<class 'pandas.core.frame.DataFrame'>\n",
            "RangeIndex: 7401 entries, 0 to 7400\n",
            "Data columns (total 2 columns):\n",
            " #   Column      Non-Null Count  Dtype \n",
            "---  ------      --------------  ----- \n",
            " 0   reviews     7401 non-null   object\n",
            " 1   sentiments  7401 non-null   int64 \n",
            "dtypes: int64(1), object(1)\n",
            "memory usage: 115.8+ KB\n"
          ]
        }
      ],
      "source": [
        "train_data.info() # get summary of the dataframe (number of entries, datatype of each column)"
      ]
    },
    {
      "cell_type": "code",
      "execution_count": null,
      "id": "d7ce272f",
      "metadata": {
        "id": "d7ce272f"
      },
      "outputs": [],
      "source": [
        "def text_cleaning(text):\n",
        "    forbidden_words = set(stopwords.words('english')) # get english stopword\n",
        "    if text:\n",
        "        text = ' '.join(text.split('.')) # split text by '.' and join back with a space\n",
        "        text = re.sub('\\/',' ',text) # replace / with space\n",
        "        text = re.sub(r'\\\\',' ',text) # replace backslash with space\n",
        "        text = re.sub(r'((http)\\S+)','',text) # remove http link\n",
        "\t\t\t\t# firstly, remove leading and trailing whitespaces\n",
        "\t\t\t\t# turn all characters into lowercase\n",
        "\t\t\t\t# remove all not alphabet character\n",
        "\t\t\t\t# replace newline with a space\n",
        "\t\t\t\t# remove leading and trailing whitespaces again\n",
        "        text = re.sub(r'\\s+', ' ', re.sub('[^A-Za-z]', ' ', text.strip().lower())).strip() \n",
        "\t\t\t\t# replace all alphnumeric and underscore into whitespaces\n",
        "        text = re.sub(r'\\W+', ' ', text.strip().lower()).strip()\n",
        "\t\t\t\t# save each word that is not stopword into text array\n",
        "        text = [word for word in text.split() if word not in forbidden_words]\n",
        "        return text\n",
        "    return []"
      ]
    },
    {
      "cell_type": "code",
      "execution_count": null,
      "id": "019ef3ab",
      "metadata": {
        "id": "019ef3ab"
      },
      "outputs": [],
      "source": [
        "# clean data for both train & test data\n",
        "#label flag column with train/test\n",
        "train_data['flag'] = 'TRAIN'\n",
        "test_data['flag'] = 'TEST'\n",
        "# concatenate pandas objects along a particular axis\n",
        "# axis = 0 -> concatenate top down\n",
        "# concatenate train and test data into one dataframe\n",
        "total_docs = pd.concat([train_data,test_data],axis = 0,ignore_index = True)\n",
        "# apply data cleaning function for Phrase column and insert it back\n",
        "total_docs['reviews'] = total_docs['reviews'].apply(lambda x: ' '.join(text_cleaning(x)))\n",
        "\n",
        "\n"
      ]
    },
    {
      "cell_type": "code",
      "source": [
        "# count the unique words in the reviews\n",
        "train_reviews = total_docs[total_docs['flag'] == 'TRAIN']['reviews']\n",
        "reviews_word = [review.split() for review in train_reviews]\n",
        "unique_word = set()\n",
        "for review in reviews_word:\n",
        "  for word in review:\n",
        "    unique_word.add(word)\n",
        "\n",
        "len(unique_word)"
      ],
      "metadata": {
        "id": "gljJ32nuEM0A",
        "colab": {
          "base_uri": "https://localhost:8080/"
        },
        "outputId": "69595d00-7d32-47b5-d7ed-055fe8ba9f3a"
      },
      "id": "gljJ32nuEM0A",
      "execution_count": null,
      "outputs": [
        {
          "output_type": "execute_result",
          "data": {
            "text/plain": [
              "13533"
            ]
          },
          "metadata": {},
          "execution_count": 14
        }
      ]
    },
    {
      "cell_type": "code",
      "execution_count": null,
      "id": "7448cb51",
      "metadata": {
        "id": "7448cb51",
        "outputId": "6791ca63-5609-4f3e-937b-bfb46f19aa90",
        "colab": {
          "base_uri": "https://localhost:8080/"
        }
      },
      "outputs": [
        {
          "output_type": "stream",
          "name": "stdout",
          "text": [
            "                                                reviews  sentiments   flag\n",
            "0                 [301, 15884, 11483, 5509, 11409, 807]         1.0  TRAIN\n",
            "1       [12645, 19289, 17372, 6941, 1030, 14813, 19728]         1.0  TRAIN\n",
            "2     [8596, 11129, 14476, 4480, 615, 11019, 2855, 1...         1.0  TRAIN\n",
            "3     [18230, 6596, 19085, 18327, 16930, 1102, 13911...         1.0  TRAIN\n",
            "4     [16002, 10287, 14702, 9184, 17303, 14374, 6165...         1.0  TRAIN\n",
            "...                                                 ...         ...    ...\n",
            "7396  [301, 3936, 5653, 17069, 17428, 15431, 15462, ...         0.0  TRAIN\n",
            "7397  [18926, 17100, 10593, 1242, 14476, 1302, 15475...         1.0  TRAIN\n",
            "7398  [5597, 17947, 2059, 16128, 15253, 9963, 9635, ...         1.0  TRAIN\n",
            "7399  [19480, 4531, 13826, 14887, 27, 3125, 18926, 5...         0.0  TRAIN\n",
            "7400  [15227, 6396, 1810, 19056, 19089, 8347, 1716, ...         1.0  TRAIN\n",
            "\n",
            "[7401 rows x 3 columns]\n"
          ]
        }
      ],
      "source": [
        "# each value in reviews are joined into a list\n",
        "reviews = total_docs['reviews'].tolist()\n",
        "# print(reviews)\n",
        "# encode each word into a value\n",
        "encoded_reviews = [one_hot(d, vocab_size) for d in reviews]\n",
        "total_docs['reviews'] = encoded_reviews\n",
        "train_data_encode = total_docs[total_docs['flag'] == 'TRAIN']\n",
        "test_data_encode = total_docs[total_docs['flag'] == 'TEST']\n",
        "print(train_data_encode)\n",
        "x_train = train_data_encode['reviews'][:5922]\n",
        "y_train = train_data_encode['sentiments'][:5922]\n",
        "x_val = train_data_encode['reviews'][5922:]\n",
        "y_val = train_data_encode['sentiments'][5922:]\n",
        "\n",
        "x_test = test_data_encode['reviews']"
      ]
    },
    {
      "cell_type": "code",
      "execution_count": null,
      "id": "6f9af548",
      "metadata": {
        "id": "6f9af548",
        "outputId": "01700811-5551-4ff1-94cc-ef659f97911f",
        "colab": {
          "base_uri": "https://localhost:8080/"
        }
      },
      "outputs": [
        {
          "output_type": "execute_result",
          "data": {
            "text/plain": [
              "array([1., 0.])"
            ]
          },
          "metadata": {},
          "execution_count": 16
        }
      ],
      "source": [
        "# find out the unique values of an array and return the sorted unique values\n",
        "y_train.unique()"
      ]
    },
    {
      "cell_type": "code",
      "execution_count": null,
      "id": "155fa462",
      "metadata": {
        "id": "155fa462"
      },
      "outputs": [],
      "source": [
        "# ensure that all sequences in a list have the same length\n",
        "# padding 0 in the beginning of each sequence until each sequence has the same length as the longest sequence\n",
        "# specify the maximum length of each sequence using maxlen argument. \n",
        "# This will truncate all sequences longer than maxlen\n",
        "# By default truncating is set to pre, which truncates the beginning part of the sequence. \n",
        "# If you rather want to truncate the end part of the sequence you can set it to post.\n",
        "x_train = keras.utils.pad_sequences(x_train, maxlen=maxlen)\n",
        "x_val = keras.utils.pad_sequences(x_val, maxlen=maxlen)\n",
        "x_test = keras.utils.pad_sequences(x_test, maxlen=maxlen)\n"
      ]
    },
    {
      "cell_type": "code",
      "execution_count": null,
      "id": "c024ab62",
      "metadata": {
        "id": "c024ab62",
        "outputId": "840d7c4d-e556-4111-e655-336206d9097f",
        "colab": {
          "base_uri": "https://localhost:8080/"
        }
      },
      "outputs": [
        {
          "output_type": "stream",
          "name": "stdout",
          "text": [
            "Model: \"sequential\"\n",
            "_________________________________________________________________\n",
            " Layer (type)                Output Shape              Param #   \n",
            "=================================================================\n",
            " embedding (Embedding)       (None, 300, 32)           640000    \n",
            "                                                                 \n",
            " bidirectional (Bidirectiona  (None, 300, 64)          16640     \n",
            " l)                                                              \n",
            "                                                                 \n",
            " dropout (Dropout)           (None, 300, 64)           0         \n",
            "                                                                 \n",
            " bidirectional_1 (Bidirectio  (None, 300, 16)          4672      \n",
            " nal)                                                            \n",
            "                                                                 \n",
            " dropout_1 (Dropout)         (None, 300, 16)           0         \n",
            "                                                                 \n",
            " bidirectional_2 (Bidirectio  (None, 8)                672       \n",
            " nal)                                                            \n",
            "                                                                 \n",
            " dropout_2 (Dropout)         (None, 8)                 0         \n",
            "                                                                 \n",
            " dense (Dense)               (None, 1)                 9         \n",
            "                                                                 \n",
            "=================================================================\n",
            "Total params: 661,993\n",
            "Trainable params: 661,993\n",
            "Non-trainable params: 0\n",
            "_________________________________________________________________\n"
          ]
        }
      ],
      "source": [
        "#create a sequential model\n",
        "model = Sequential()\n",
        "model.add(Embedding(input_dim=20000, output_dim=32, input_length=300))\n",
        "# Add 2 bidirectional LSTMs\n",
        "model.add(Bidirectional(LSTM(32, return_sequences=True)))\n",
        "model.add(Dropout(0.5))\n",
        "model.add(Bidirectional(LSTM(8, return_sequences=True)))\n",
        "model.add(Dropout(0.5))\n",
        "model.add(Bidirectional(LSTM(4)))\n",
        "model.add(Dropout(0.5))\n",
        "# Add a classifier\n",
        "model.add(Dense(1, activation=\"sigmoid\"))\n",
        "# model = keras.Model(inputs, outputs)\n",
        "model.summary()"
      ]
    },
    {
      "cell_type": "code",
      "execution_count": null,
      "id": "0587907b",
      "metadata": {
        "id": "0587907b"
      },
      "outputs": [],
      "source": [
        "opt = keras.optimizers.Adam(learning_rate=0.0001)\n",
        "model.compile(loss=\"binary_crossentropy\", optimizer=opt, metrics=[\"accuracy\"])"
      ]
    },
    {
      "cell_type": "code",
      "execution_count": null,
      "id": "0bc59449",
      "metadata": {
        "id": "0bc59449",
        "outputId": "7ca06736-43b0-42a6-c4b5-dff79058cee1",
        "colab": {
          "base_uri": "https://localhost:8080/"
        }
      },
      "outputs": [
        {
          "output_type": "stream",
          "name": "stdout",
          "text": [
            "Epoch 1/12\n",
            "186/186 [==============================] - 69s 329ms/step - loss: 0.5835 - accuracy: 0.8205 - val_loss: 0.4401 - val_accuracy: 0.8519\n",
            "Epoch 2/12\n",
            "186/186 [==============================] - 58s 312ms/step - loss: 0.4663 - accuracy: 0.8499 - val_loss: 0.4205 - val_accuracy: 0.8519\n",
            "Epoch 3/12\n",
            "186/186 [==============================] - 57s 308ms/step - loss: 0.4546 - accuracy: 0.8538 - val_loss: 0.4313 - val_accuracy: 0.8519\n",
            "Epoch 4/12\n",
            "186/186 [==============================] - 57s 306ms/step - loss: 0.4444 - accuracy: 0.8543 - val_loss: 0.4136 - val_accuracy: 0.8519\n",
            "Epoch 5/12\n",
            "186/186 [==============================] - 58s 312ms/step - loss: 0.4282 - accuracy: 0.8543 - val_loss: 0.3945 - val_accuracy: 0.8519\n",
            "Epoch 6/12\n",
            "186/186 [==============================] - 58s 311ms/step - loss: 0.3901 - accuracy: 0.8560 - val_loss: 0.3483 - val_accuracy: 0.8519\n",
            "Epoch 7/12\n",
            "186/186 [==============================] - 57s 306ms/step - loss: 0.3400 - accuracy: 0.8636 - val_loss: 0.3202 - val_accuracy: 0.8519\n",
            "Epoch 8/12\n",
            "186/186 [==============================] - 57s 307ms/step - loss: 0.2950 - accuracy: 0.8776 - val_loss: 0.3133 - val_accuracy: 0.8519\n",
            "Epoch 9/12\n",
            "186/186 [==============================] - 57s 307ms/step - loss: 0.2672 - accuracy: 0.8907 - val_loss: 0.2691 - val_accuracy: 0.8999\n",
            "Epoch 10/12\n",
            "186/186 [==============================] - 58s 311ms/step - loss: 0.2033 - accuracy: 0.9553 - val_loss: 0.2762 - val_accuracy: 0.8925\n",
            "Epoch 11/12\n",
            "186/186 [==============================] - 57s 308ms/step - loss: 0.1766 - accuracy: 0.9630 - val_loss: 0.2613 - val_accuracy: 0.9101\n",
            "Epoch 12/12\n",
            "186/186 [==============================] - 57s 306ms/step - loss: 0.1621 - accuracy: 0.9686 - val_loss: 0.2676 - val_accuracy: 0.9060\n"
          ]
        }
      ],
      "source": [
        "history = model.fit(x_train, y_train, validation_data=(x_val, y_val), batch_size=32, epochs=12, verbose=1)"
      ]
    },
    {
      "cell_type": "code",
      "execution_count": null,
      "id": "b64b3979",
      "metadata": {
        "id": "b64b3979",
        "outputId": "40b32e8c-6b21-4b3f-ef79-bc44337f6a0f",
        "colab": {
          "base_uri": "https://localhost:8080/",
          "height": 543
        }
      },
      "outputs": [
        {
          "output_type": "display_data",
          "data": {
            "text/plain": [
              "<Figure size 432x288 with 1 Axes>"
            ],
            "image/png": "[encoded data removed]"
          },
          "metadata": {
            "needs_background": "light"
          }
        },
        {
          "output_type": "display_data",
          "data": {
            "text/plain": [
              "<Figure size 432x288 with 1 Axes>"
            ],
            "image/png": "[encoded data removed]"
          },
          "metadata": {
            "needs_background": "light"
          }
        }
      ],
      "source": [
        "# Get training and test loss histories\n",
        "training_loss = history.history['loss']\n",
        "test_loss = history.history['val_loss']\n",
        "training_accuracy = history.history['accuracy']\n",
        "test_accuracy= history.history['val_accuracy']\n",
        "\n",
        "# Create count of the number of epochs\n",
        "epoch_count = range(1, len(training_loss) + 1)\n",
        "\n",
        "# Visualize loss history\n",
        "plt.plot(epoch_count, training_loss, 'r--')\n",
        "plt.plot(epoch_count, test_loss, 'b-')\n",
        "plt.legend(['Training Loss', 'Test Loss'])\n",
        "plt.xlabel('Epoch')\n",
        "plt.ylabel('Loss')\n",
        "plt.show();\n",
        "\n",
        "\n",
        "plt.plot(epoch_count, training_accuracy, 'r--')\n",
        "plt.plot(epoch_count, test_accuracy, 'b-')\n",
        "plt.legend(['Training Accuracy', 'Test Accuracy'])\n",
        "plt.xlabel('Epoch')\n",
        "plt.ylabel('Accuracy')\n",
        "plt.show();"
      ]
    },
    {
      "cell_type": "code",
      "execution_count": null,
      "id": "82bc8175",
      "metadata": {
        "id": "82bc8175",
        "outputId": "80abf261-efca-45f9-833f-b1eab2945162",
        "colab": {
          "base_uri": "https://localhost:8080/"
        }
      },
      "outputs": [
        {
          "output_type": "stream",
          "name": "stdout",
          "text": [
            "47/47 [==============================] - 4s 57ms/step\n"
          ]
        },
        {
          "output_type": "execute_result",
          "data": {
            "text/plain": [
              "array([[1],\n",
              "       [1],\n",
              "       [1],\n",
              "       ...,\n",
              "       [1],\n",
              "       [1],\n",
              "       [1]])"
            ]
          },
          "metadata": {},
          "execution_count": 22
        }
      ],
      "source": [
        "# make prediction for test data based on the model constructed\n",
        "y_val_predict = model.predict(x_val)\n",
        "\n",
        "# since the output are floating numbers between 0 and 1\n",
        "# set a threshold to convert it to 0 or 1\n",
        "# if <= 0.5, sentiment = 0\n",
        "# if > 0.5, sentiment = 1\n",
        "threshold = 0.5\n",
        "y_val_predict = np.where(y_val_predict > threshold, 1, 0)\n",
        "\n",
        "y_val_predict"
      ]
    },
    {
      "cell_type": "code",
      "execution_count": null,
      "id": "e598c28d",
      "metadata": {
        "id": "e598c28d",
        "outputId": "bba9ddef-5992-4c94-9276-35e756fa268e",
        "colab": {
          "base_uri": "https://localhost:8080/",
          "height": 282
        }
      },
      "outputs": [
        {
          "output_type": "execute_result",
          "data": {
            "text/plain": [
              "<matplotlib.axes._subplots.AxesSubplot at 0x7f767f01c0d0>"
            ]
          },
          "metadata": {},
          "execution_count": 23
        },
        {
          "output_type": "display_data",
          "data": {
            "text/plain": [
              "<Figure size 432x288 with 2 Axes>"
            ],
            "image/png": "[encoded data removed]"
          },
          "metadata": {
            "needs_background": "light"
          }
        }
      ],
      "source": [
        "sb.heatmap(confusion_matrix(y_val, y_val_predict), \n",
        "           annot = True, fmt=\".0f\", annot_kws={\"size\": 18})"
      ]
    },
    {
      "cell_type": "code",
      "execution_count": null,
      "id": "5e378f5e",
      "metadata": {
        "id": "5e378f5e",
        "outputId": "dc6b9a0a-07b1-4259-bb5e-23b77d5ebf41",
        "colab": {
          "base_uri": "https://localhost:8080/"
        }
      },
      "outputs": [
        {
          "output_type": "stream",
          "name": "stdout",
          "text": [
            "58/58 [==============================] - 3s 57ms/step\n"
          ]
        },
        {
          "output_type": "execute_result",
          "data": {
            "text/plain": [
              "array([[0],\n",
              "       [1],\n",
              "       [1],\n",
              "       ...,\n",
              "       [1],\n",
              "       [1],\n",
              "       [1]])"
            ]
          },
          "metadata": {},
          "execution_count": 24
        }
      ],
      "source": [
        "# make prediction for test data based on the model constructed\n",
        "y_test = model.predict(x_test)\n",
        "\n",
        "# since the output are floating numbers between 0 and 1\n",
        "# set a threshold to convert it to 0 or 1\n",
        "# if <= 0.5, sentiment = 0\n",
        "# if > 0.5, sentiment = 1\n",
        "threshold = 0.5\n",
        "y_test = np.where(y_test > threshold, 1, 0)\n",
        "\n",
        "y_test"
      ]
    },
    {
      "cell_type": "code",
      "execution_count": null,
      "id": "6369966c",
      "metadata": {
        "id": "6369966c",
        "outputId": "59a23936-53ad-4e8e-9dee-cbc9bba1b455",
        "colab": {
          "base_uri": "https://localhost:8080/",
          "height": 424
        }
      },
      "outputs": [
        {
          "output_type": "execute_result",
          "data": {
            "text/plain": [
              "                                                reviews  flag  sentiments\n",
              "0     I bought 2 sleepers.  sleeper had holes in the...  TEST           0\n",
              "1     I dare say these are just about the sexiest th...  TEST           1\n",
              "2     everything about the transaction (price, deliv...  TEST           1\n",
              "3     Not bad for just a shirt.  Very durable, and m...  TEST           1\n",
              "4     These are truly wrinkle free and longer than t...  TEST           1\n",
              "...                                                 ...   ...         ...\n",
              "1846  These are stylish and nice and perfect to wear...  TEST           1\n",
              "1847  We bought these long-sleeved colored shirts fo...  TEST           1\n",
              "1848  These are really cute and very sexy.  They wil...  TEST           1\n",
              "1849  These shoers were for my daughter.  She loves ...  TEST           1\n",
              "1850  Most umbrellas handle a light rain well, but l...  TEST           1\n",
              "\n",
              "[1851 rows x 3 columns]"
            ],
            "text/html": [
              "\n",
              "  <div id=\"df-faa45160-26e6-4220-a822-fcab77b9b93f\">\n",
              "    <div class=\"colab-df-container\">\n",
              "      <div>\n",
              "<style scoped>\n",
              "    .dataframe tbody tr th:only-of-type {\n",
              "        vertical-align: middle;\n",
              "    }\n",
              "\n",
              "    .dataframe tbody tr th {\n",
              "        vertical-align: top;\n",
              "    }\n",
              "\n",
              "    .dataframe thead th {\n",
              "        text-align: right;\n",
              "    }\n",
              "</style>\n",
              "<table border=\"1\" class=\"dataframe\">\n",
              "  <thead>\n",
              "    <tr style=\"text-align: right;\">\n",
              "      <th></th>\n",
              "      <th>reviews</th>\n",
              "      <th>flag</th>\n",
              "      <th>sentiments</th>\n",
              "    </tr>\n",
              "  </thead>\n",
              "  <tbody>\n",
              "    <tr>\n",
              "      <th>0</th>\n",
              "      <td>I bought 2 sleepers.  sleeper had holes in the...</td>\n",
              "      <td>TEST</td>\n",
              "      <td>0</td>\n",
              "    </tr>\n",
              "    <tr>\n",
              "      <th>1</th>\n",
              "      <td>I dare say these are just about the sexiest th...</td>\n",
              "      <td>TEST</td>\n",
              "      <td>1</td>\n",
              "    </tr>\n",
              "    <tr>\n",
              "      <th>2</th>\n",
              "      <td>everything about the transaction (price, deliv...</td>\n",
              "      <td>TEST</td>\n",
              "      <td>1</td>\n",
              "    </tr>\n",
              "    <tr>\n",
              "      <th>3</th>\n",
              "      <td>Not bad for just a shirt.  Very durable, and m...</td>\n",
              "      <td>TEST</td>\n",
              "      <td>1</td>\n",
              "    </tr>\n",
              "    <tr>\n",
              "      <th>4</th>\n",
              "      <td>These are truly wrinkle free and longer than t...</td>\n",
              "      <td>TEST</td>\n",
              "      <td>1</td>\n",
              "    </tr>\n",
              "    <tr>\n",
              "      <th>...</th>\n",
              "      <td>...</td>\n",
              "      <td>...</td>\n",
              "      <td>...</td>\n",
              "    </tr>\n",
              "    <tr>\n",
              "      <th>1846</th>\n",
              "      <td>These are stylish and nice and perfect to wear...</td>\n",
              "      <td>TEST</td>\n",
              "      <td>1</td>\n",
              "    </tr>\n",
              "    <tr>\n",
              "      <th>1847</th>\n",
              "      <td>We bought these long-sleeved colored shirts fo...</td>\n",
              "      <td>TEST</td>\n",
              "      <td>1</td>\n",
              "    </tr>\n",
              "    <tr>\n",
              "      <th>1848</th>\n",
              "      <td>These are really cute and very sexy.  They wil...</td>\n",
              "      <td>TEST</td>\n",
              "      <td>1</td>\n",
              "    </tr>\n",
              "    <tr>\n",
              "      <th>1849</th>\n",
              "      <td>These shoers were for my daughter.  She loves ...</td>\n",
              "      <td>TEST</td>\n",
              "      <td>1</td>\n",
              "    </tr>\n",
              "    <tr>\n",
              "      <th>1850</th>\n",
              "      <td>Most umbrellas handle a light rain well, but l...</td>\n",
              "      <td>TEST</td>\n",
              "      <td>1</td>\n",
              "    </tr>\n",
              "  </tbody>\n",
              "</table>\n",
              "<p>1851 rows × 3 columns</p>\n",
              "</div>\n",
              "      <button class=\"colab-df-convert\" onclick=\"convertToInteractive('df-faa45160-26e6-4220-a822-fcab77b9b93f')\"\n",
              "              title=\"Convert this dataframe to an interactive table.\"\n",
              "              style=\"display:none;\">\n",
              "        \n",
              "  <svg xmlns=\"http://www.w3.org/2000/svg\" height=\"24px\"viewBox=\"0 0 24 24\"\n",
              "       width=\"24px\">\n",
              "    <path d=\"M0 0h24v24H0V0z\" fill=\"none\"/>\n",
              "    <path d=\"M18.56 5.44l.94 2.06.94-2.06 2.06-.94-2.06-.94-.94-2.06-.94 2.06-2.06.94zm-11 1L8.5 8.5l.94-2.06 2.06-.94-2.06-.94L8.5 2.5l-.94 2.06-2.06.94zm10 10l.94 2.06.94-2.06 2.06-.94-2.06-.94-.94-2.06-.94 2.06-2.06.94z\"/><path d=\"M17.41 7.96l-1.37-1.37c-.4-.4-.92-.59-1.43-.59-.52 0-1.04.2-1.43.59L10.3 9.45l-7.72 7.72c-.78.78-.78 2.05 0 2.83L4 21.41c.39.39.9.59 1.41.59.51 0 1.02-.2 1.41-.59l7.78-7.78 2.81-2.81c.8-.78.8-2.07 0-2.86zM5.41 20L4 18.59l7.72-7.72 1.47 1.35L5.41 20z\"/>\n",
              "  </svg>\n",
              "      </button>\n",
              "      \n",
              "  <style>\n",
              "    .colab-df-container {\n",
              "      display:flex;\n",
              "      flex-wrap:wrap;\n",
              "      gap: 12px;\n",
              "    }\n",
              "\n",
              "    .colab-df-convert {\n",
              "      background-color: #E8F0FE;\n",
              "      border: none;\n",
              "      border-radius: 50%;\n",
              "      cursor: pointer;\n",
              "      display: none;\n",
              "      fill: #1967D2;\n",
              "      height: 32px;\n",
              "      padding: 0 0 0 0;\n",
              "      width: 32px;\n",
              "    }\n",
              "\n",
              "    .colab-df-convert:hover {\n",
              "      background-color: #E2EBFA;\n",
              "      box-shadow: 0px 1px 2px rgba(60, 64, 67, 0.3), 0px 1px 3px 1px rgba(60, 64, 67, 0.15);\n",
              "      fill: #174EA6;\n",
              "    }\n",
              "\n",
              "    [theme=dark] .colab-df-convert {\n",
              "      background-color: #3B4455;\n",
              "      fill: #D2E3FC;\n",
              "    }\n",
              "\n",
              "    [theme=dark] .colab-df-convert:hover {\n",
              "      background-color: #434B5C;\n",
              "      box-shadow: 0px 1px 3px 1px rgba(0, 0, 0, 0.15);\n",
              "      filter: drop-shadow(0px 1px 2px rgba(0, 0, 0, 0.3));\n",
              "      fill: #FFFFFF;\n",
              "    }\n",
              "  </style>\n",
              "\n",
              "      <script>\n",
              "        const buttonEl =\n",
              "          document.querySelector('#df-faa45160-26e6-4220-a822-fcab77b9b93f button.colab-df-convert');\n",
              "        buttonEl.style.display =\n",
              "          google.colab.kernel.accessAllowed ? 'block' : 'none';\n",
              "\n",
              "        async function convertToInteractive(key) {\n",
              "          const element = document.querySelector('#df-faa45160-26e6-4220-a822-fcab77b9b93f');\n",
              "          const dataTable =\n",
              "            await google.colab.kernel.invokeFunction('convertToInteractive',\n",
              "                                                     [key], {});\n",
              "          if (!dataTable) return;\n",
              "\n",
              "          const docLinkHtml = 'Like what you see? Visit the ' +\n",
              "            '<a target=\"_blank\" href=https://colab.research.google.com/notebooks/data_table.ipynb>data table notebook</a>'\n",
              "            + ' to learn more about interactive tables.';\n",
              "          element.innerHTML = '';\n",
              "          dataTable['output_type'] = 'display_data';\n",
              "          await google.colab.output.renderOutput(dataTable, element);\n",
              "          const docLink = document.createElement('div');\n",
              "          docLink.innerHTML = docLinkHtml;\n",
              "          element.appendChild(docLink);\n",
              "        }\n",
              "      </script>\n",
              "    </div>\n",
              "  </div>\n",
              "  "
            ]
          },
          "metadata": {},
          "execution_count": 25
        }
      ],
      "source": [
        "# insert the predicted value into the sentiments column in test data\n",
        "test_data['sentiments'] = y_test\n",
        "test_data"
      ]
    },
    {
      "cell_type": "code",
      "execution_count": null,
      "id": "dface146",
      "metadata": {
        "id": "dface146"
      },
      "outputs": [],
      "source": [
        "test_data.to_csv('/content/submission.csv')"
      ]
    },
    {
      "cell_type": "code",
      "execution_count": null,
      "id": "732202bd",
      "metadata": {
        "id": "732202bd"
      },
      "outputs": [],
      "source": []
    }
  ],
  "metadata": {
    "kernelspec": {
      "display_name": "Python 3 (ipykernel)",
      "language": "python",
      "name": "python3"
    },
    "language_info": {
      "codemirror_mode": {
        "name": "ipython",
        "version": 3
      },
      "file_extension": ".py",
      "mimetype": "text/x-python",
      "name": "python",
      "nbconvert_exporter": "python",
      "pygments_lexer": "ipython3",
      "version": "3.9.12"
    },
    "colab": {
      "provenance": []
    }
  },
  "nbformat": 4,
  "nbformat_minor": 5
}